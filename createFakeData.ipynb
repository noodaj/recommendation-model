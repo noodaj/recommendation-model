{
 "cells": [
  {
   "cell_type": "code",
   "execution_count": 2,
   "metadata": {},
   "outputs": [],
   "source": [
    "import pandas as pd\n",
    "\n",
    "df = pd.read_csv(\"restaurant-menus.csv\", sep=',')\n",
    "string_columns = df.select_dtypes(include=['object'])\n",
    "\n",
    "for col in string_columns:\n",
    "    df[col] = df[col].str.replace(\"&amp;\", \"&\")"
   ]
  },
  {
   "cell_type": "code",
   "execution_count": 3,
   "metadata": {},
   "outputs": [],
   "source": [
    "dropped_items = [ 'Other Essentials', \"Electronics: Batteries & Phone Accessories\", \"Health & Beauty\", \"Household Goods\" ]\n",
    "df.drop(df[df['category'].isin(dropped_items)].index, inplace=True)\n",
    "rest = df\n",
    "# df.to_csv(\"parsed-data.csv\", index=False)\n",
    "\n",
    "# df = pd.read_csv('parsed-data.csv', sep=',')\n",
    "\n",
    "# rest['category'].to_csv('category.csv', index=False)"
   ]
  },
  {
   "cell_type": "code",
   "execution_count": 10,
   "metadata": {},
   "outputs": [],
   "source": [
    "# with open('user-data.csv', 'w') as write:\n",
    "import numpy as np\n",
    "\n",
    "np.random.seed(200)\n",
    "\n",
    "rows = 1_000_000\n",
    "cols = 3\n",
    "\n",
    "ranges = {\n",
    "\t'userID': (1, 10_000),\n",
    "\t'restaurantID': (1, df.iloc[-1][0]),\n",
    "\t'rating': (1, 500)\n",
    "}\n",
    "\n",
    "data = {col: np.random.randint(low=low, high=high, size=rows) for col, (low, high) in ranges.items()}\n",
    "userdf = pd.DataFrame(data)\n",
    "\n",
    "# userdf['itemName'] = df['name'].apply(lambda x: np.random.choice(x))\n",
    "\n",
    "userdf = userdf.sort_values(by=['userID'])\n",
    "\n",
    "userdf.to_csv('user-data.csv', ',', index=False)"
   ]
  },
  {
   "cell_type": "code",
   "execution_count": null,
   "metadata": {},
   "outputs": [],
   "source": []
  }
 ],
 "metadata": {
  "kernelspec": {
   "display_name": "Python 3",
   "language": "python",
   "name": "python3"
  },
  "language_info": {
   "codemirror_mode": {
    "name": "ipython",
    "version": 3
   },
   "file_extension": ".py",
   "mimetype": "text/x-python",
   "name": "python",
   "nbconvert_exporter": "python",
   "pygments_lexer": "ipython3",
   "version": "3.10.13"
  }
 },
 "nbformat": 4,
 "nbformat_minor": 2
}
