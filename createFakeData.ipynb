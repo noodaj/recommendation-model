{
 "cells": [
  {
   "cell_type": "code",
   "execution_count": 1,
   "metadata": {},
   "outputs": [],
   "source": [
    "import pandas as pd\n",
    "\n",
    "df = pd.read_csv(\"restaurant-menus.csv\", sep=',')\n",
    "string_columns = df.select_dtypes(include=['object'])"
   ]
  },
  {
   "cell_type": "code",
   "execution_count": 2,
   "metadata": {},
   "outputs": [
    {
     "name": "stderr",
     "output_type": "stream",
     "text": [
      "/tmp/ipykernel_22875/466729554.py:6: DtypeWarning: Columns (0) have mixed types. Specify dtype option on import or set low_memory=False.\n",
      "  df = pd.read_csv('parsed-data.csv', sep=',')\n"
     ]
    }
   ],
   "source": [
    "for col in string_columns:\n",
    "    df[col] = df[col].str.replace(\"&amp;\", \"&\")\n",
    "\n",
    "df.to_csv(\"parsed-data.csv\", index=False)\n",
    "\n",
    "df = pd.read_csv('parsed-data.csv', sep=',')\n"
   ]
  },
  {
   "cell_type": "code",
   "execution_count": 40,
   "metadata": {},
   "outputs": [
    {
     "name": "stdout",
     "output_type": "stream",
     "text": [
      "        userID  restaurantID  rating\n",
      "519049       1         16460       7\n",
      "463067       1         30752       4\n",
      "482182       1         54561       7\n",
      "447928       1         29058       2\n",
      "761322       1         54214       3\n",
      "...        ...           ...     ...\n",
      "324103    4999         48212       7\n",
      "990083    4999         44094       3\n",
      "948494    4999         18537       5\n",
      "702308    4999         45101       3\n",
      "473385    4999         33453       3\n",
      "\n",
      "[1000000 rows x 3 columns]\n"
     ]
    }
   ],
   "source": [
    "# with open('user-data.csv', 'w') as write:\n",
    "import numpy as np\n",
    "\n",
    "np.random.seed(200)\n",
    "\n",
    "rows = 1_000_000\n",
    "cols = 3\n",
    "\n",
    "ranges = {\n",
    "\t'userID': (1, 5_000),\n",
    "\t'restaurantID': (1, df.iloc[-1][0]),\n",
    "\t'rating': (1, 10)\n",
    "}\n",
    "\n",
    "data = {col: np.random.randint(low=low, high=high, size=rows) for col, (low, high) in ranges.items()}\n",
    "userdf = pd.DataFrame(data)\n",
    "\n",
    "# userdf['itemName'] = df['name'].apply(lambda x: np.random.choice(x))\n",
    "\n",
    "userdf = userdf.sort_values(by=['userID'])\n",
    "\n",
    "userdf.to_csv('user-data.csv', ',', index=False)\n",
    "print(userdf)"
   ]
  },
  {
   "cell_type": "code",
   "execution_count": null,
   "metadata": {},
   "outputs": [],
   "source": []
  }
 ],
 "metadata": {
  "kernelspec": {
   "display_name": "Python 3",
   "language": "python",
   "name": "python3"
  },
  "language_info": {
   "codemirror_mode": {
    "name": "ipython",
    "version": 3
   },
   "file_extension": ".py",
   "mimetype": "text/x-python",
   "name": "python",
   "nbconvert_exporter": "python",
   "pygments_lexer": "ipython3",
   "version": "3.10.0"
  }
 },
 "nbformat": 4,
 "nbformat_minor": 2
}
