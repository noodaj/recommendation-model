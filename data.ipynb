{
 "cells": [
  {
   "cell_type": "code",
   "execution_count": 94,
   "metadata": {},
   "outputs": [],
   "source": [
    "import pandas as pd\n",
    "import numpy as np\n",
    "from pathlib import Path\n",
    "from scipy import sparse\n",
    "from scipy.sparse import csr_matrix\n",
    "from implicit.datasets.lastfm import get_lastfm\n",
    "from implicit.nearest_neighbours import bm25_weight\n",
    "from implicit.als import AlternatingLeastSquares\n",
    "from IPython.core.interactiveshell import InteractiveShell\n",
    "from typing import List\n",
    "import time\n",
    "\n",
    "InteractiveShell.ast_node_interactivity = 'all'"
   ]
  },
  {
   "cell_type": "code",
   "execution_count": 111,
   "metadata": {},
   "outputs": [],
   "source": [
    "class DataLoader:\n",
    "    def __init__(self, userData:Path , restaurantData: Path) -> None:\n",
    "        self.userData = userData\n",
    "        self.restaurantData = restaurantData\n",
    "\n",
    "        #for user data \n",
    "        df = pd.read_csv(self.userData, sep=',')\n",
    "\n",
    "        self.userDataDF = df\n",
    "\n",
    "        #for restaurant data\n",
    "        df = pd.read_csv(self.restaurantData, sep= ',')\n",
    "        self.restaurantDF = df\n",
    "\n",
    "    def load_user_data(self) -> csr_matrix:\n",
    "        df = self.userDataDF\n",
    "\n",
    "        df = df.set_index(['userID', 'restaurantID'])\n",
    "        coo = sparse.coo_matrix(\n",
    "            (\n",
    "                df[\"rating\"].astype(float),\n",
    "                ( \n",
    "                    df.index.get_level_values(0), \n",
    "                   \tdf.index.get_level_values(1)\n",
    "                ),\n",
    "            )\n",
    "        )\n",
    "        coo = bm25_weight(coo, K1=1000, B=0.75) \n",
    "        return coo.tocsr()\n",
    "\n",
    "    def get_restaurant(self, rest_id: int) -> str:\n",
    "        return self.restaurantDF.iloc[rest_id]['name']\n",
    "\n",
    "    def load_restaurant_data(self) -> None:\n",
    "        df = pd.read_csv(self.restaurantData, sep=',')\n",
    "        df = df.set_index('id')\n",
    "        \n",
    "        df['score'] = df['score'].fillna(np.random.uniform(0, 10))\n",
    "        df['ratings'] = df['ratings'].fillna(np.random.randint(1, 100))\n",
    "        df['price_range'] = df['price_range'].fillna(np.random.randint(1,2) * \"$\")\n",
    "\n",
    "        df['zip_code'] = df['zip_code'].str.split('-', n=1, expand=True)[0]\n",
    "        # df['zip_code']\n",
    "        self.restaurantDF = df\n",
    "        return \n",
    "    \n",
    "    def get_user_data(self, userID: int) -> pd.DataFrame:\n",
    "        df = self.userDataDF\n",
    "\n",
    "        return df.loc[df['userID'] == userID]\n",
    "\n"
   ]
  },
  {
   "cell_type": "code",
   "execution_count": 96,
   "metadata": {},
   "outputs": [],
   "source": [
    "class Model:\n",
    "    def __init__(self, user_items: csr_matrix, restaurant_data: pd.DataFrame) -> None:\n",
    "      self.model= AlternatingLeastSquares(factors = 50, iterations=15, regularization=0.01)\n",
    "      self.user_items = user_items\n",
    "      self.recommend_data = restaurant_data\n",
    "      \n",
    "    \n",
    "    def fitModel(self) -> None:\n",
    "      start = time.time()\n",
    "      self.model.fit(self.user_items)\n",
    "\n",
    "      print(f\"Finished training the model at {time.time() - start}\")\n",
    "    \n",
    "    def recommend_items(self, userID: int, n: int = 10):\n",
    "      recommendations, scores = self.model.recommend(userID, self.user_items[n], N=n, recalculate_user=True)\n",
    "\n",
    "      return recommendations, scores\n",
    "    \n",
    "    def similar_items(self, restaurant_id): \n",
    "      id, scores = self.model.similar_items(restaurant_id)\n",
    "\n",
    "      return id, scores"
   ]
  },
  {
   "cell_type": "code",
   "execution_count": 112,
   "metadata": {},
   "outputs": [],
   "source": [
    "loader = DataLoader(Path('user-data.csv'), Path('restaurants.csv'))\n",
    "user_data = loader.load_user_data()\n",
    "resturant_data = loader.load_restaurant_data()\n"
   ]
  },
  {
   "cell_type": "code",
   "execution_count": 114,
   "metadata": {},
   "outputs": [
    {
     "name": "stderr",
     "output_type": "stream",
     "text": [
      "  0%|          | 0/15 [00:00<?, ?it/s]"
     ]
    },
    {
     "name": "stderr",
     "output_type": "stream",
     "text": [
      "100%|██████████| 15/15 [00:12<00:00,  1.22it/s]"
     ]
    },
    {
     "name": "stdout",
     "output_type": "stream",
     "text": [
      "Finished training the model at 12.274335622787476\n"
     ]
    },
    {
     "name": "stderr",
     "output_type": "stream",
     "text": [
      "\n"
     ]
    }
   ],
   "source": [
    "#REGULAR \n",
    "model = Model(user_data, resturant_data)\n",
    "model.fitModel()"
   ]
  },
  {
   "cell_type": "code",
   "execution_count": 120,
   "metadata": {},
   "outputs": [
    {
     "data": {
      "text/plain": [
       "(['Popeyes (1436 Beltline Rd)',\n",
       "  'Cooking With Flavour',\n",
       "  \"MJ's Gaming Cafe\",\n",
       "  'Sonic (3260 North Goliad Street)',\n",
       "  \"Hui's Cantonese &amp; American Restaurant (Milwaukee)\",\n",
       "  'Pressed - Southlake Market Place',\n",
       "  'Safeway Express (27035 Pacific Hwy S)',\n",
       "  'Lemonshark Poke',\n",
       "  'Biryani Hub',\n",
       "  'Bunk Sandwiches (Water Ave)',\n",
       "  'Subway (400 Santa Fe Dr Ste B)',\n",
       "  'Stir Fry Chef (Addison)',\n",
       "  'Tataki sushi bar',\n",
       "  'Cancun Mexican restaurant',\n",
       "  'Angry Chicken',\n",
       "  'Rite Aid (1850 SOUTH MILDRED STREET)',\n",
       "  'Sonic (2564 Ironwood Drive)',\n",
       "  \"Carl's Jr. (9330 Dyer St)\",\n",
       "  'Cupbop (Draper)',\n",
       "  'Wawa 8617 (10060 Jefferson Davis Highway)',\n",
       "  'Karma Burger (3524 12th St)',\n",
       "  'Soul Bird Chkn Shack',\n",
       "  'Safeway Express (2725 Ne Sunset Blvd)',\n",
       "  'Pizza express',\n",
       "  'Vivalapizzadelivery21 (5610 N Interstate Hwy 35)',\n",
       "  'Renew Coffee N Bakery',\n",
       "  'Capital Crab Company',\n",
       "  \"McDonald's® (701 WILLIAMSON RD)\",\n",
       "  'Enliten Bakery &amp; Cafe',\n",
       "  'Twelve',\n",
       "  'Wild Burger (1180 W Sunset Dr.)',\n",
       "  'Lawaiian’s',\n",
       "  \"Guy Fieri's Flavortown Kitchen (122 Kentlands Boulevard)\",\n",
       "  'Hong Kong Buffet',\n",
       "  'Birrieria Grumpys',\n",
       "  'Stellina Pizzeria (K Street)',\n",
       "  'Honey Baked Ham (601 Montgomery Hwy)',\n",
       "  'Royal Palm Restaurant',\n",
       "  'Eataly Dallas La Pizza &amp; La Pasta',\n",
       "  'Pizza Hut (18810 Meridian Avenue E, Suite 110)',\n",
       "  'Arosa Cafe (Madison)',\n",
       "  'Urban Eatz - Irving',\n",
       "  'Mr. Seafood',\n",
       "  'Pasta La Vista',\n",
       "  'Sodam Chicken',\n",
       "  'Waller County Line BBQ',\n",
       "  'Cupbop (Fashion Place)',\n",
       "  'Taqueria la mestiza',\n",
       "  'Metro Diner (Fredericksburg)',\n",
       "  'Old School Frozen Custard'],\n",
       " array([1.6216152, 1.614425 , 1.522347 , 1.5035888, 1.4796761, 1.4572406,\n",
       "        1.441495 , 1.4283348, 1.4230515, 1.408452 , 1.4082758, 1.3962091,\n",
       "        1.3950307, 1.3880347, 1.3661461, 1.362561 , 1.3549194, 1.3506762,\n",
       "        1.3297734, 1.3279353, 1.3261796, 1.3187709, 1.3179247, 1.3009403,\n",
       "        1.2959287, 1.2942737, 1.289551 , 1.2886529, 1.2885544, 1.279679 ,\n",
       "        1.275203 , 1.2717547, 1.270051 , 1.2629124, 1.2621307, 1.2590263,\n",
       "        1.2580626, 1.2576852, 1.2555171, 1.2511907, 1.2495732, 1.2480154,\n",
       "        1.2437108, 1.2404478, 1.2403693, 1.2402474, 1.2355963, 1.233501 ,\n",
       "        1.2331764, 1.2314242], dtype=float32))"
      ]
     },
     "execution_count": 120,
     "metadata": {},
     "output_type": "execute_result"
    },
    {
     "data": {
      "text/plain": [
       "922     49233\n",
       "923      7887\n",
       "924     21219\n",
       "925     44793\n",
       "926     23063\n",
       "        ...  \n",
       "1008    63391\n",
       "1009    56624\n",
       "1010    57427\n",
       "1011    32320\n",
       "1012    39038\n",
       "Name: restaurantID, Length: 91, dtype: int64"
      ]
     },
     "execution_count": 120,
     "metadata": {},
     "output_type": "execute_result"
    }
   ],
   "source": [
    "restaurants, scores = model.recommend_items(10, 50) \n",
    "results = [loader.get_restaurant(rest_id) for rest_id in restaurants]\n",
    "\n",
    "df = loader.userDataDF\n",
    "results, scores\n",
    "\n",
    "df[df['userID'] == 10]['restaurantID']"
   ]
  },
  {
   "cell_type": "code",
   "execution_count": null,
   "metadata": {},
   "outputs": [],
   "source": []
  },
  {
   "cell_type": "code",
   "execution_count": 100,
   "metadata": {},
   "outputs": [
    {
     "data": {
      "text/plain": [
       "array([     0,      1,      2, ..., 358865, 358866, 358867])"
      ]
     },
     "execution_count": 100,
     "metadata": {},
     "output_type": "execute_result"
    }
   ],
   "source": [
    "artists, users , plays = get_lastfm()\n",
    "np.arange(len(users))\n",
    "# plays.tocsr()\n",
    "# user_plays = plays.T.tocsr()\n",
    "\n",
    "# model2 = AlternatingLeastSquares(factors=128)\n",
    "# model2.fit(user_plays)\n",
    "# to_generate = np.arange(len(users))\n",
    "\n"
   ]
  },
  {
   "cell_type": "code",
   "execution_count": 101,
   "metadata": {},
   "outputs": [],
   "source": [
    "# batch = to_generate[0: 0 + 1000]\n",
    "# ids, scores = model2.recommend(batch, user_plays[batch], filter_already_liked_items=True)\n",
    "\n",
    "# ids, scores"
   ]
  }
 ],
 "metadata": {
  "kernelspec": {
   "display_name": "Python 3",
   "language": "python",
   "name": "python3"
  },
  "language_info": {
   "codemirror_mode": {
    "name": "ipython",
    "version": 3
   },
   "file_extension": ".py",
   "mimetype": "text/x-python",
   "name": "python",
   "nbconvert_exporter": "python",
   "pygments_lexer": "ipython3",
   "version": "3.10.13"
  }
 },
 "nbformat": 4,
 "nbformat_minor": 2
}
