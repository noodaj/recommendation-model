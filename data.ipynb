{
 "cells": [
  {
   "cell_type": "code",
   "execution_count": 101,
   "metadata": {},
   "outputs": [],
   "source": [
    "import pandas as pd\n",
    "import numpy as np\n",
    "from pathlib import Path\n",
    "from scipy import sparse\n",
    "from scipy.sparse import csr_matrix\n",
    "from implicit.datasets.lastfm import get_lastfm\n",
    "from implicit.nearest_neighbours import bm25_weight, BM25Recommender\n",
    "from implicit.als import AlternatingLeastSquares\n",
    "from IPython.core.interactiveshell import InteractiveShell\n",
    "import time\n",
    "\n",
    "InteractiveShell.ast_node_interactivity = 'all'"
   ]
  },
  {
   "cell_type": "code",
   "execution_count": 92,
   "metadata": {},
   "outputs": [],
   "source": [
    "class DataLoader:\n",
    "    def __init__(self, userData:Path , restaurantData: Path) -> None:\n",
    "        self.userData = userData\n",
    "        self.restaurantData = restaurantData\n",
    "        self.restaurantDF = None\n",
    "\n",
    "    def load_user_data(self) -> csr_matrix:\n",
    "        df = pd.read_csv(self.userData, sep=\",\")\n",
    "\n",
    "        df.set_index(['userID', 'restaurantID'], inplace=True)\n",
    "        coo = sparse.coo_matrix(\n",
    "            (\n",
    "                df[\"rating\"].astype(float),\n",
    "                (df.index.get_level_values(0), df.index.get_level_values(1)),\n",
    "            )\n",
    "        )\n",
    "\n",
    "        return coo.tocsr()\n",
    "\n",
    "    def get_restaurant(self, rest_id: int) -> str:\n",
    "        return self.restaurantData.iloc[rest_id]['name']\n",
    "\n",
    "    def load_restaurant_data(self) -> None:\n",
    "        df = pd.read_csv(self.restaurantData, sep=',')\n",
    "        df = df.set_index('id')\n",
    "        \n",
    "        df['score'] = df['score'].fillna(np.random.uniform(0, 10))\n",
    "        df['ratings'] = df['ratings'].fillna(np.random.randint(0, 100))\n",
    "        df['price_range'] = df['price_range'].fillna(np.random.randint(1,2) * \"$\")\n",
    "\n",
    "        df['zip_code'] = df['zip_code'].str.split('-', n=1, expand=True)[0]\n",
    "        # df['zip_code']\n",
    "        self.restaurantData = df\n",
    "        return \n",
    "\n"
   ]
  },
  {
   "cell_type": "code",
   "execution_count": 102,
   "metadata": {},
   "outputs": [],
   "source": [
    "class Model:\n",
    "    def __init__(self):\n",
    "      self.model= AlternatingLeastSquares(factors=128, iterations=10, regularization=0.01)\n",
    "      \n",
    "    \n",
    "    def calculate_recommendation(self, user_items: csr_matrix):\n",
    "      artists, _ , plays = get_lastfm() \n",
    "\n",
    "      start = time.time()\n",
    "      self.model.fit(user_items)\n",
    "      print(f\"Finished training the model at {time.time() - start}\")\n"
   ]
  },
  {
   "cell_type": "code",
   "execution_count": 103,
   "metadata": {},
   "outputs": [
    {
     "name": "stderr",
     "output_type": "stream",
     "text": [
      "100%|██████████| 10/10 [00:18<00:00,  1.83s/it]"
     ]
    },
    {
     "name": "stdout",
     "output_type": "stream",
     "text": [
      "Finished training the model at 18.31993293762207\n"
     ]
    },
    {
     "name": "stderr",
     "output_type": "stream",
     "text": [
      "\n"
     ]
    }
   ],
   "source": [
    "loader = DataLoader(Path('user-data.csv'), Path('restaurants.csv'))\n",
    "csr = loader.load_user_data()\n",
    "loader.load_restaurant_data()\n",
    "\n",
    "model = Model()\n",
    "model.calculate_recommendation(csr)\n"
   ]
  }
 ],
 "metadata": {
  "kernelspec": {
   "display_name": "Python 3",
   "language": "python",
   "name": "python3"
  },
  "language_info": {
   "codemirror_mode": {
    "name": "ipython",
    "version": 3
   },
   "file_extension": ".py",
   "mimetype": "text/x-python",
   "name": "python",
   "nbconvert_exporter": "python",
   "pygments_lexer": "ipython3",
   "version": "3.11.5"
  }
 },
 "nbformat": 4,
 "nbformat_minor": 2
}
