{
 "cells": [
  {
   "cell_type": "code",
   "execution_count": 40,
   "metadata": {},
   "outputs": [],
   "source": [
    "from pathlib import Path\n",
    "from scipy import sparse\n",
    "from scipy.sparse import csr_matrix\n",
    "import pandas as pd\n",
    "\n",
    "from implicit.datasets.lastfm import get_lastfm"
   ]
  },
  {
   "cell_type": "code",
   "execution_count": 81,
   "metadata": {},
   "outputs": [],
   "source": [
    "def load_data(file: Path) -> csr_matrix:\n",
    "    df = pd.read_csv(file, sep=\",\")\n",
    "\n",
    "    df.set_index(['userID', 'restaurantID'], inplace=True)\n",
    "    coo = sparse.coo_matrix(\n",
    "        (\n",
    "            df[\"rating\"].astype(float),\n",
    "            (df.index.get_level_values(0), df.index.get_level_values(1)),\n",
    "        )\n",
    "    )\n",
    "\t\n",
    "    return coo.tocsr()"
   ]
  },
  {
   "cell_type": "code",
   "execution_count": 82,
   "metadata": {},
   "outputs": [
    {
     "name": "stdout",
     "output_type": "stream",
     "text": [
      "  (1, 662)\t4.0\n",
      "  (1, 671)\t1.0\n",
      "  (1, 910)\t1.0\n",
      "  (1, 1473)\t4.0\n",
      "  (1, 1527)\t2.0\n",
      "  (1, 2068)\t1.0\n",
      "  (1, 2370)\t5.0\n",
      "  (1, 2906)\t5.0\n",
      "  (1, 2908)\t2.0\n",
      "  (1, 3344)\t8.0\n",
      "  (1, 3419)\t1.0\n",
      "  (1, 3499)\t3.0\n",
      "  (1, 3674)\t1.0\n",
      "  (1, 3742)\t5.0\n",
      "  (1, 4129)\t9.0\n",
      "  (1, 4223)\t3.0\n",
      "  (1, 4469)\t7.0\n",
      "  (1, 4772)\t1.0\n",
      "  (1, 4840)\t8.0\n",
      "  (1, 5527)\t1.0\n",
      "  (1, 5905)\t2.0\n",
      "  (1, 6166)\t4.0\n",
      "  (1, 6209)\t8.0\n",
      "  (1, 6242)\t9.0\n",
      "  (1, 6393)\t1.0\n",
      "  :\t:\n",
      "  (4999, 57405)\t2.0\n",
      "  (4999, 57805)\t1.0\n",
      "  (4999, 58006)\t3.0\n",
      "  (4999, 58097)\t8.0\n",
      "  (4999, 58330)\t4.0\n",
      "  (4999, 58445)\t4.0\n",
      "  (4999, 58467)\t8.0\n",
      "  (4999, 59031)\t3.0\n",
      "  (4999, 59123)\t5.0\n",
      "  (4999, 59341)\t2.0\n",
      "  (4999, 59352)\t4.0\n",
      "  (4999, 59763)\t3.0\n",
      "  (4999, 60108)\t3.0\n",
      "  (4999, 60286)\t6.0\n",
      "  (4999, 60421)\t7.0\n",
      "  (4999, 60634)\t8.0\n",
      "  (4999, 61526)\t4.0\n",
      "  (4999, 61603)\t5.0\n",
      "  (4999, 62075)\t6.0\n",
      "  (4999, 62122)\t1.0\n",
      "  (4999, 62755)\t4.0\n",
      "  (4999, 62901)\t4.0\n",
      "  (4999, 62948)\t5.0\n",
      "  (4999, 62984)\t8.0\n",
      "  (4999, 63059)\t5.0\n"
     ]
    }
   ],
   "source": [
    "csr = load_data('user-data.csv')\n",
    "\n",
    "print(csr)"
   ]
  }
 ],
 "metadata": {
  "kernelspec": {
   "display_name": "Python 3",
   "language": "python",
   "name": "python3"
  },
  "language_info": {
   "codemirror_mode": {
    "name": "ipython",
    "version": 3
   },
   "file_extension": ".py",
   "mimetype": "text/x-python",
   "name": "python",
   "nbconvert_exporter": "python",
   "pygments_lexer": "ipython3",
   "version": "3.10.13"
  }
 },
 "nbformat": 4,
 "nbformat_minor": 2
}
