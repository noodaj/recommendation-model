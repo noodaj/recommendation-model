{
 "cells": [
  {
   "cell_type": "code",
   "execution_count": 1,
   "metadata": {},
   "outputs": [
    {
     "name": "stderr",
     "output_type": "stream",
     "text": [
      "/home/nodaj/.local/lib/python3.10/site-packages/tqdm/auto.py:22: TqdmWarning: IProgress not found. Please update jupyter and ipywidgets. See https://ipywidgets.readthedocs.io/en/stable/user_install.html\n",
      "  from .autonotebook import tqdm as notebook_tqdm\n"
     ]
    }
   ],
   "source": [
    "import pandas as pd\n",
    "import numpy as np\n",
    "from pathlib import Path\n",
    "from scipy import sparse\n",
    "from scipy.sparse import csr_matrix\n",
    "from implicit.datasets.lastfm import get_lastfm\n",
    "from implicit.nearest_neighbours import bm25_weight, BM25Recommender\n",
    "from implicit.als import AlternatingLeastSquares\n",
    "from IPython.core.interactiveshell import InteractiveShell\n",
    "import time\n",
    "\n",
    "InteractiveShell.ast_node_interactivity = 'all'"
   ]
  },
  {
   "cell_type": "code",
   "execution_count": 2,
   "metadata": {},
   "outputs": [],
   "source": [
    "class DataLoader:\n",
    "    def __init__(self, userData:Path , restaurantData: Path) -> None:\n",
    "        self.userData = userData\n",
    "        self.restaurantData = restaurantData\n",
    "        self.restaurantDF = None\n",
    "\n",
    "    def load_user_data(self) -> csr_matrix:\n",
    "        df = pd.read_csv(self.userData, sep=\",\")\n",
    "\n",
    "        df.set_index(['userID', 'restaurantID'], inplace=True)\n",
    "        coo = sparse.coo_matrix(\n",
    "            (\n",
    "                df[\"rating\"].astype(float),\n",
    "                (df.index.get_level_values(0), df.index.get_level_values(1)),\n",
    "            )\n",
    "        )\n",
    "        coo = bm25_weight(coo, K1=100, B=0.8)\n",
    "\n",
    "        return coo.tocsr()\n",
    "\n",
    "    def get_restaurant(self, rest_id: int) -> str:\n",
    "        return self.restaurantData.iloc[rest_id]['name']\n",
    "\n",
    "    def load_restaurant_data(self) -> None:\n",
    "        df = pd.read_csv(self.restaurantData, sep=',')\n",
    "        df = df.set_index('id')\n",
    "        \n",
    "        df['score'] = df['score'].fillna(np.random.uniform(0, 10))\n",
    "        df['ratings'] = df['ratings'].fillna(np.random.randint(0, 100))\n",
    "        df['price_range'] = df['price_range'].fillna(np.random.randint(1,2) * \"$\")\n",
    "\n",
    "        df['zip_code'] = df['zip_code'].str.split('-', n=1, expand=True)[0]\n",
    "        # df['zip_code']\n",
    "        self.restaurantData = df\n",
    "        return \n",
    "\n"
   ]
  },
  {
   "cell_type": "code",
   "execution_count": 3,
   "metadata": {},
   "outputs": [],
   "source": [
    "class Model:\n",
    "    def __init__(self, user_items: csr_matrix):\n",
    "      self.model= AlternatingLeastSquares(factors=128, iterations=10, regularization=0.01)\n",
    "      self.user_items = user_items\n",
    "      \n",
    "    \n",
    "    def fitModel(self):\n",
    "      start = time.time()\n",
    "      self.model.fit(self.user_items)\n",
    "\n",
    "      print(f\"Finished training the model at {time.time() - start}\")\n",
    "    \n",
    "    def recommend_items(self, userID: int, n: int = 10):\n",
    "      recommendations, scores = self.model.recommend(userID, self.user_items[n], N=n, recalculate_user=True)\n",
    "\n",
    "      return recommendations, scores\n",
    "    \n",
    "    def similar_items(self, restaurant_id): \n",
    "      id, scores = self.model.similar_items(restaurant_id)\n",
    "\n",
    "      return id, scores"
   ]
  },
  {
   "cell_type": "code",
   "execution_count": 4,
   "metadata": {},
   "outputs": [
    {
     "name": "stderr",
     "output_type": "stream",
     "text": [
      "/home/nodaj/.local/lib/python3.10/site-packages/implicit/cpu/als.py:95: RuntimeWarning: OpenBLAS is configured to use 12 threads. It is highly recommended to disable its internal threadpool by setting the environment variable 'OPENBLAS_NUM_THREADS=1' or by calling 'threadpoolctl.threadpool_limits(1, \"blas\")'. Having OpenBLAS use a threadpool can lead to severe performance issues here.\n",
      "  check_blas_config()\n",
      "100%|██████████| 10/10 [00:15<00:00,  1.53s/it]"
     ]
    },
    {
     "name": "stdout",
     "output_type": "stream",
     "text": [
      "Finished training the model at 15.396453857421875\n"
     ]
    },
    {
     "name": "stderr",
     "output_type": "stream",
     "text": [
      "\n"
     ]
    }
   ],
   "source": [
    "loader = DataLoader(Path('user-data.csv'), Path('restaurants.csv'))\n",
    "csr = loader.load_user_data()\n",
    "loader.load_restaurant_data()\n",
    "\n",
    "model = Model(csr)\n",
    "model.fitModel()\n"
   ]
  },
  {
   "cell_type": "code",
   "execution_count": 5,
   "metadata": {},
   "outputs": [
    {
     "data": {
      "text/plain": [
       "(['Panda Korea Restaurant',\n",
       "  'The Very Good Butchers (5832 Fairdale Ln)',\n",
       "  'Dairy Queen (245 E Hampton Ave)',\n",
       "  'Papa Johns (740 Volunteer Pkwy)',\n",
       "  'Palette Indian Kitchen',\n",
       "  'Ember Smoked BBQ (2809 W. Expwy. 83)',\n",
       "  'Thai Go',\n",
       "  'Crumbl Cookies (TX - Magnolia)',\n",
       "  'Kolache Factory - 006',\n",
       "  'Shipley Donuts (1900 W University Dr #8)',\n",
       "  'Mr. Seafood',\n",
       "  'TCBY (4775 W Panther Creek Dr)',\n",
       "  'Duck Donuts (South Jordan)',\n",
       "  'KFC (1208 50th Street)',\n",
       "  'Potbelly Sandwich Shop (10921 W Broad St | 508)',\n",
       "  'Safeway Express (15000 Ne 24Th St)',\n",
       "  \"Saccone's Pizza and Subs\",\n",
       "  'Outback Steakhouse (225 Fort Evans Rd NE)',\n",
       "  \"Ben &amp; Jerry's (Bellevue)\",\n",
       "  'Another Wing by DJ Khaled (POR30-1)',\n",
       "  'Safeway Express (15805 Pacific Ave S)',\n",
       "  'Red Robin Gourmet Burgers (11200 Broadway St #1500)',\n",
       "  'Baskin-Robbins (800 N Loop 336 W)',\n",
       "  'Chick-fil-A  (387 E FM 1382)',\n",
       "  'Sabor Latino 2021 Inc',\n",
       "  'Sake Hato Tejas',\n",
       "  \"It's Just Wings (1940 N Central Expy)\",\n",
       "  'DiveOn75 Hookah Lounge &amp; Bar',\n",
       "  'Hilo Poke &amp; Sushi (Washington, D.C.)',\n",
       "  '7-Eleven (1026 Millwood Pike)',\n",
       "  'Taqueria Los 4 Brothers',\n",
       "  'Rios Barbacoa Helotes, TX',\n",
       "  'San Jang Korean Restaurant',\n",
       "  'Jack in the Box (2514 S. Belt Line Rd.)',\n",
       "  'Boba Milk Tea Snob',\n",
       "  'Don Adolfo’s Bar and Grill',\n",
       "  'Golden Chick (901 E Ennis Ave)',\n",
       "  'Mad Rooster Cafe (Milwaukee)',\n",
       "  'Innovation Catering',\n",
       "  'Taco Bell (50 S. 48th Place)',\n",
       "  'Buffalo Wild Wings (4335 Starkey Road)',\n",
       "  'Pepitos 512',\n",
       "  \"Jersey Mike's Subs (Austin) 11521 FM 620 North\",\n",
       "  \"Mr. Smith's of Georgetown\",\n",
       "  'Bayou City Eats (Burgers and Southern Bites)',\n",
       "  'Thicc Milkshakes (SLU)  ',\n",
       "  \"Cici's (San Pedro)\",\n",
       "  'Westco Donuts',\n",
       "  'Bed Bath &amp; Beyond (10515 Katy Freeway,Suite A)',\n",
       "  'Victory Seafood'],\n",
       " array([0.6030141 , 0.5977181 , 0.58965343, 0.5879761 , 0.5824623 ,\n",
       "        0.556028  , 0.5509539 , 0.54779977, 0.5460737 , 0.53596854,\n",
       "        0.53542066, 0.52947223, 0.528951  , 0.5256592 , 0.5191785 ,\n",
       "        0.5159526 , 0.5157345 , 0.51557213, 0.5125471 , 0.5083281 ,\n",
       "        0.50671923, 0.5058732 , 0.50431526, 0.5020293 , 0.5011358 ,\n",
       "        0.49961993, 0.4973178 , 0.49511644, 0.49504918, 0.49467582,\n",
       "        0.49373192, 0.49343792, 0.492007  , 0.49191153, 0.48995408,\n",
       "        0.48983368, 0.4879805 , 0.48794326, 0.48729315, 0.48632154,\n",
       "        0.48544678, 0.48531866, 0.483647  , 0.4817294 , 0.48147085,\n",
       "        0.4809787 , 0.48086792, 0.48078835, 0.48074272, 0.48032403],\n",
       "       dtype=float32))"
      ]
     },
     "execution_count": 5,
     "metadata": {},
     "output_type": "execute_result"
    }
   ],
   "source": [
    "restaurants, scores = model.recommend_items(2140, 50) \n",
    "results = [loader.get_restaurant(rest_id) for rest_id in restaurants]\n",
    "\n",
    "results, scores \n",
    "\n",
    "# restauraunts, scores = model.similar_items(2004)\n",
    "# results = [loader.get_restaurant(rest_id) for rest_id in restaurants]\n",
    "\n",
    "# restaurants , scores"
   ]
  },
  {
   "cell_type": "code",
   "execution_count": null,
   "metadata": {},
   "outputs": [],
   "source": []
  }
 ],
 "metadata": {
  "kernelspec": {
   "display_name": "Python 3",
   "language": "python",
   "name": "python3"
  },
  "language_info": {
   "codemirror_mode": {
    "name": "ipython",
    "version": 3
   },
   "file_extension": ".py",
   "mimetype": "text/x-python",
   "name": "python",
   "nbconvert_exporter": "python",
   "pygments_lexer": "ipython3",
   "version": "3.10.13"
  }
 },
 "nbformat": 4,
 "nbformat_minor": 2
}
